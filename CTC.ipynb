{
 "cells": [
  {
   "cell_type": "code",
   "execution_count": 1,
   "id": "ada1f6a4-c9a5-40d5-808e-c88880d99d0d",
   "metadata": {},
   "outputs": [],
   "source": [
    "import scipy\n",
    "import numpy as np\n",
    "import pandas as pd\n",
    "import matplotlib.pyplot as plt"
   ]
  },
  {
   "cell_type": "code",
   "execution_count": 3,
   "id": "db74bc24-9439-45f8-be52-0e624c3de60b",
   "metadata": {},
   "outputs": [
    {
     "name": "stdout",
     "output_type": "stream",
     "text": [
      "          id                                  uuid                      date  \\\n",
      "0          1  83757635-61ff-4f76-8ff8-01f5b6c60f01 2023-09-28 11:50:55+00:00   \n",
      "1          2  c13da891-0a52-4723-b831-57f52087a655 2023-09-28 11:50:55+00:00   \n",
      "2          3  d18316a7-82d0-4cbd-ba34-655bc0fdb2cb 2023-09-28 11:50:55+00:00   \n",
      "3          4  7aa482dd-ce2d-4ff9-bf93-f4fc770e913b 2023-09-28 11:50:55+00:00   \n",
      "4          5  8144601e-d3c0-4990-a233-16f3464e83dd 2024-09-25 10:24:24+00:00   \n",
      "...      ...                                   ...                       ...   \n",
      "30917  30918  97929ef5-4478-4e2b-9cff-cad4baa7f55e 2024-11-06 19:47:45+00:00   \n",
      "30918  30919  7ea1fa92-390d-4b8e-a3ea-83bbef9ed9a0 2024-11-06 19:47:56+00:00   \n",
      "30919  30920  c4447c2e-78ac-4a41-ab72-aec6c5117b20 2024-11-06 19:52:25+00:00   \n",
      "30920  30921  01fbd535-8f04-4343-a29c-1a644061c18d 2024-11-06 20:02:37+00:00   \n",
      "30921  30922  3aab9572-127a-4712-83e1-918ae6ada912 2024-11-06 20:05:48+00:00   \n",
      "\n",
      "       status  temperature  decibel_milliwatt  voltage_drain  modified_at  \\\n",
      "0        True         38.0             -113.0          3.013          NaN   \n",
      "1       False         38.0             -113.0          3.013          NaN   \n",
      "2       False         38.0             -113.0          3.013          NaN   \n",
      "3        True         38.0             -113.0          3.013          NaN   \n",
      "4       False          0.0               85.0          3.628          NaN   \n",
      "...       ...          ...                ...            ...          ...   \n",
      "30917    True          7.0              -61.0          3.522          NaN   \n",
      "30918   False         15.0              -65.0          3.378          NaN   \n",
      "30919   False         -3.0              -79.0          3.613          NaN   \n",
      "30920    True         -6.0              -53.0          3.605          NaN   \n",
      "30921   False         -3.0              -59.0          3.576          NaN   \n",
      "\n",
      "       deleted  sensor_id  \n",
      "0        False          1  \n",
      "1        False          1  \n",
      "2        False          1  \n",
      "3        False          1  \n",
      "4        False          5  \n",
      "...        ...        ...  \n",
      "30917    False         35  \n",
      "30918    False         35  \n",
      "30919    False          1  \n",
      "30920    False         16  \n",
      "30921    False         16  \n",
      "\n",
      "[30922 rows x 10 columns]\n"
     ]
    }
   ],
   "source": [
    "data_sensors_path = '../CTC - Data Sample Sensors.csv'\n",
    "data_sensors = pd.read_csv(data_sensors_path, delimiter=',')\n",
    "\n",
    "# Convert Timestamp column to datetime\n",
    "data_sensors['date'] = pd.to_datetime(data_sensors['date'], errors='coerce', utc=True)\n",
    "\n",
    "print(data_sensors)"
   ]
  },
  {
   "cell_type": "code",
   "execution_count": 4,
   "id": "0631f06c-4a2d-43f1-bcb4-59e60b2958b1",
   "metadata": {},
   "outputs": [],
   "source": [
    "data_bookings_path = '../CTC - Data Sample Bookings Groningen.csv'"
   ]
  }
 ],
 "metadata": {
  "kernelspec": {
   "display_name": "Python 3 (ipykernel)",
   "language": "python",
   "name": "python3"
  },
  "language_info": {
   "codemirror_mode": {
    "name": "ipython",
    "version": 3
   },
   "file_extension": ".py",
   "mimetype": "text/x-python",
   "name": "python",
   "nbconvert_exporter": "python",
   "pygments_lexer": "ipython3",
   "version": "3.13.5"
  }
 },
 "nbformat": 4,
 "nbformat_minor": 5
}
