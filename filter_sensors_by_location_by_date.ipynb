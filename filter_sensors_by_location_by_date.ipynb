{
 "cells": [
  {
   "cell_type": "code",
   "execution_count": 29,
   "id": "ada1f6a4-c9a5-40d5-808e-c88880d99d0d",
   "metadata": {},
   "outputs": [],
   "source": [
    "import pandas as pd\n",
    "import matplotlib.pyplot as plt\n",
    "import os\n",
    "import matplotlib.dates as mdates"
   ]
  },
  {
   "cell_type": "code",
   "execution_count": 30,
   "id": "db74bc24-9439-45f8-be52-0e624c3de60b",
   "metadata": {},
   "outputs": [],
   "source": [
    "folder_path = 'C:\\\\Users\\\\linti\\\\Desktop\\\\Advanced Data Science for Transport and Engineering\\\\Weekly_Data'\n",
    "data_sensors_path = '\\\\0922_Sensor data_Utrecht.csv'\n",
    "path = folder_path + data_sensors_path\n",
    "data_sensors = pd.read_csv(path, delimiter=';')"
   ]
  },
  {
   "cell_type": "code",
   "execution_count": 31,
   "id": "a15f4d0e",
   "metadata": {},
   "outputs": [
    {
     "data": {
      "text/html": [
       "<div>\n",
       "<style scoped>\n",
       "    .dataframe tbody tr th:only-of-type {\n",
       "        vertical-align: middle;\n",
       "    }\n",
       "\n",
       "    .dataframe tbody tr th {\n",
       "        vertical-align: top;\n",
       "    }\n",
       "\n",
       "    .dataframe thead th {\n",
       "        text-align: right;\n",
       "    }\n",
       "</style>\n",
       "<table border=\"1\" class=\"dataframe\">\n",
       "  <thead>\n",
       "    <tr style=\"text-align: right;\">\n",
       "      <th></th>\n",
       "      <th>date</th>\n",
       "      <th>status</th>\n",
       "      <th>sensor id</th>\n",
       "      <th>location name</th>\n",
       "      <th>city name</th>\n",
       "    </tr>\n",
       "  </thead>\n",
       "  <tbody>\n",
       "    <tr>\n",
       "      <th>0</th>\n",
       "      <td>2024-10-10 04:30:21+00:00</td>\n",
       "      <td>False</td>\n",
       "      <td>863213040201795</td>\n",
       "      <td>Lange Viestraat</td>\n",
       "      <td>Utrecht</td>\n",
       "    </tr>\n",
       "    <tr>\n",
       "      <th>1</th>\n",
       "      <td>2024-10-10 04:50:40+00:00</td>\n",
       "      <td>True</td>\n",
       "      <td>863213040198801</td>\n",
       "      <td>Stadhuisplein</td>\n",
       "      <td>Utrecht</td>\n",
       "    </tr>\n",
       "    <tr>\n",
       "      <th>2</th>\n",
       "      <td>2024-10-10 04:59:14+00:00</td>\n",
       "      <td>True</td>\n",
       "      <td>863213040198769</td>\n",
       "      <td>Lange Viestraat</td>\n",
       "      <td>Utrecht</td>\n",
       "    </tr>\n",
       "    <tr>\n",
       "      <th>3</th>\n",
       "      <td>2024-10-10 05:05:01+00:00</td>\n",
       "      <td>False</td>\n",
       "      <td>863213040206349</td>\n",
       "      <td>Domplein</td>\n",
       "      <td>Utrecht</td>\n",
       "    </tr>\n",
       "    <tr>\n",
       "      <th>4</th>\n",
       "      <td>2024-10-10 05:08:41+00:00</td>\n",
       "      <td>True</td>\n",
       "      <td>863213040200003</td>\n",
       "      <td>Lange Viestraat</td>\n",
       "      <td>Utrecht</td>\n",
       "    </tr>\n",
       "    <tr>\n",
       "      <th>...</th>\n",
       "      <td>...</td>\n",
       "      <td>...</td>\n",
       "      <td>...</td>\n",
       "      <td>...</td>\n",
       "      <td>...</td>\n",
       "    </tr>\n",
       "    <tr>\n",
       "      <th>140955</th>\n",
       "      <td>2025-06-17 10:18:00+00:00</td>\n",
       "      <td>False</td>\n",
       "      <td>863213040206976</td>\n",
       "      <td>Lange Viestraat</td>\n",
       "      <td>Utrecht</td>\n",
       "    </tr>\n",
       "    <tr>\n",
       "      <th>140956</th>\n",
       "      <td>2025-06-17 10:24:13+00:00</td>\n",
       "      <td>True</td>\n",
       "      <td>863213040212289</td>\n",
       "      <td>Lange Viestraat</td>\n",
       "      <td>Utrecht</td>\n",
       "    </tr>\n",
       "    <tr>\n",
       "      <th>140957</th>\n",
       "      <td>2025-06-17 10:31:52+00:00</td>\n",
       "      <td>True</td>\n",
       "      <td>863213040215340</td>\n",
       "      <td>Beurskwartier</td>\n",
       "      <td>Utrecht</td>\n",
       "    </tr>\n",
       "    <tr>\n",
       "      <th>140958</th>\n",
       "      <td>2025-06-17 10:35:12+00:00</td>\n",
       "      <td>True</td>\n",
       "      <td>863213040206976</td>\n",
       "      <td>Lange Viestraat</td>\n",
       "      <td>Utrecht</td>\n",
       "    </tr>\n",
       "    <tr>\n",
       "      <th>140959</th>\n",
       "      <td>2025-06-17 10:39:47+00:00</td>\n",
       "      <td>True</td>\n",
       "      <td>863213040212370</td>\n",
       "      <td>Lange Viestraat</td>\n",
       "      <td>Utrecht</td>\n",
       "    </tr>\n",
       "  </tbody>\n",
       "</table>\n",
       "<p>140960 rows × 5 columns</p>\n",
       "</div>"
      ],
      "text/plain": [
       "                             date  status        sensor id    location name  \\\n",
       "0       2024-10-10 04:30:21+00:00   False  863213040201795  Lange Viestraat   \n",
       "1       2024-10-10 04:50:40+00:00    True  863213040198801    Stadhuisplein   \n",
       "2       2024-10-10 04:59:14+00:00    True  863213040198769  Lange Viestraat   \n",
       "3       2024-10-10 05:05:01+00:00   False  863213040206349         Domplein   \n",
       "4       2024-10-10 05:08:41+00:00    True  863213040200003  Lange Viestraat   \n",
       "...                           ...     ...              ...              ...   \n",
       "140955  2025-06-17 10:18:00+00:00   False  863213040206976  Lange Viestraat   \n",
       "140956  2025-06-17 10:24:13+00:00    True  863213040212289  Lange Viestraat   \n",
       "140957  2025-06-17 10:31:52+00:00    True  863213040215340    Beurskwartier   \n",
       "140958  2025-06-17 10:35:12+00:00    True  863213040206976  Lange Viestraat   \n",
       "140959  2025-06-17 10:39:47+00:00    True  863213040212370  Lange Viestraat   \n",
       "\n",
       "       city name  \n",
       "0        Utrecht  \n",
       "1        Utrecht  \n",
       "2        Utrecht  \n",
       "3        Utrecht  \n",
       "4        Utrecht  \n",
       "...          ...  \n",
       "140955   Utrecht  \n",
       "140956   Utrecht  \n",
       "140957   Utrecht  \n",
       "140958   Utrecht  \n",
       "140959   Utrecht  \n",
       "\n",
       "[140960 rows x 5 columns]"
      ]
     },
     "execution_count": 31,
     "metadata": {},
     "output_type": "execute_result"
    }
   ],
   "source": [
    "data_sensors"
   ]
  },
  {
   "cell_type": "code",
   "execution_count": null,
   "id": "001e8665",
   "metadata": {},
   "outputs": [
    {
     "data": {
      "text/plain": [
       "140960"
      ]
     },
     "execution_count": 64,
     "metadata": {},
     "output_type": "execute_result"
    }
   ],
   "source": [
    "counts = data_sensors['status'].value_counts()\n",
    "proportions = data_sensors['status'].value_counts(normalize = True) * 100"
   ]
  },
  {
   "cell_type": "code",
   "execution_count": 66,
   "id": "cb1c5249",
   "metadata": {},
   "outputs": [
    {
     "data": {
      "image/png": "[encoded data removed]",
      "text/plain": [
       "<Figure size 640x480 with 1 Axes>"
      ]
     },
     "metadata": {},
     "output_type": "display_data"
    }
   ],
   "source": [
    "plt.bar(counts.index, counts.values)\n",
    "plt.title(\"Frequency of Status\")\n",
    "plt.xlabel(\"Status\")\n",
    "plt.ylabel(\"Count\")\n",
    "plt.xticks([0, 1], ['False', 'True'])\n",
    "# Add text labels on top of each bar\n",
    "for i, value in enumerate(proportions.values):\n",
    "    plt.text(i, value+counts.iloc[i], f'{counts.iloc[i]}', ha='center', va='top', fontsize=10)\n",
    "    plt.text(i, value, f'{value:.1f}%', ha='center', va='bottom', fontsize=10)\n",
    "plt.show()"
   ]
  },
  {
   "cell_type": "markdown",
   "id": "eabf7bad",
   "metadata": {},
   "source": [
    "Create columns named \"date\" in YY-MM-DD, \"time\" in hh:mm:ss, and day in 0-6 where 0 denotes Monday and 6 denotes Sunday."
   ]
  },
  {
   "cell_type": "code",
   "execution_count": 34,
   "id": "0631f06c-4a2d-43f1-bcb4-59e60b2958b1",
   "metadata": {},
   "outputs": [],
   "source": [
    "# Convert Timestamp column to datetime\n",
    "data_sensors['date'] = pd.to_datetime(data_sensors['date'], errors='coerce', utc=True)\n",
    "# print(data_sensors)\n",
    "data_sensors['day'] = data_sensors['date'].dt.dayofweek"
   ]
  },
  {
   "cell_type": "markdown",
   "id": "2ea434a0",
   "metadata": {},
   "source": [
    "Create filters"
   ]
  },
  {
   "cell_type": "code",
   "execution_count": 35,
   "id": "23cf2d19",
   "metadata": {},
   "outputs": [],
   "source": [
    "def filter_by_location(data, loc):\n",
    "    return data[data[\"location name\"] == loc]\n",
    "def filter_by_date(data, start_date, end_date): # can be multiple date gaps\n",
    "    '''\n",
    "    start_date, end_date should be 'YYYY-MM-DD' strings or datetime\n",
    "    '''\n",
    "    \n",
    "    start_date = pd.to_datetime(start_date)\n",
    "    end_date = pd.to_datetime(end_date)\n",
    "    return data[(data[\"date\"].dt.date >= start_date.date()) &\n",
    "                (data[\"date\"].dt.date <= end_date.date())]"
   ]
  },
  {
   "cell_type": "markdown",
   "id": "475bcdc2",
   "metadata": {},
   "source": [
    "Custom ur filter here"
   ]
  },
  {
   "cell_type": "code",
   "execution_count": 36,
   "id": "9cc55486",
   "metadata": {},
   "outputs": [],
   "source": [
    "def filter_by_masks(df):\n",
    "    mask = False\n",
    "    mask |= ((df[\"date\"].dt.hour >= 0) &\n",
    "             (df[\"date\"].dt.hour < 24))\n",
    "\n",
    "    return df[mask]"
   ]
  },
  {
   "cell_type": "markdown",
   "id": "042dae30",
   "metadata": {},
   "source": [
    "Change the start_date. Now the end_date is intended to be equal to start_date. This define the data in a single day. Further update should define the from a single day to a time period. "
   ]
  },
  {
   "cell_type": "code",
   "execution_count": null,
   "id": "da6c4757",
   "metadata": {},
   "outputs": [],
   "source": [
    "#Chose 22th Oct, 2024 for example\n",
    "start_date = '2024-10-22'\n",
    "end_date = start_date\n",
    "df_loc = filter_by_location(data_sensors, \"Neude\")\n",
    "df_date = filter_by_date(df_loc, start_date=start_date, end_date=end_date)\n",
    "df_time = filter_by_masks(df_date)"
   ]
  },
  {
   "cell_type": "markdown",
   "id": "ce58ad24",
   "metadata": {},
   "source": [
    "3. Pick sensors in the location"
   ]
  },
  {
   "cell_type": "code",
   "execution_count": 38,
   "id": "02d6fcf8",
   "metadata": {},
   "outputs": [],
   "source": [
    "def get_sensors(data):\n",
    "    \"\"\"Assumes 'sensor' column exists with sensor IDs/names\"\"\"\n",
    "    return data[\"sensor id\"].unique()"
   ]
  },
  {
   "cell_type": "code",
   "execution_count": 39,
   "id": "359d1669",
   "metadata": {},
   "outputs": [],
   "source": [
    "sensors = get_sensors(df_loc) # should be 2 sensors in the Piața Orizont"
   ]
  },
  {
   "cell_type": "markdown",
   "id": "0cf9775a",
   "metadata": {},
   "source": [
    "4. Plot one sensor's status over time"
   ]
  },
  {
   "cell_type": "code",
   "execution_count": 40,
   "id": "99b61f27",
   "metadata": {},
   "outputs": [],
   "source": [
    "def plot_sensor(data, sensor_name, fig, ax, i, j = 0):\n",
    "    sensor_data = data[data[\"sensor id\"] == sensor_name]\n",
    "    ax.step(sensor_data[\"date\"], sensor_data[\"status\"].astype(int))\n",
    "    # Major ticks every hour\n",
    "    fig.gca().xaxis.set_major_locator(mdates.HourLocator())\n",
    "    fig.gca().xaxis.set_major_formatter(mdates.DateFormatter('%H:%M'))\n",
    "    # day = sensor_data[\"day\"]\n",
    "    # Minor ticks every 15 minutes\n",
    "    fig.gca().xaxis.set_minor_locator(mdates.MinuteLocator(byminute=[0,15,30,45]))\n",
    "    # Show grid for both major and minor ticks\n",
    "    ax.grid(which='major', linestyle='-', linewidth=0.8)\n",
    "    ax.grid(which='minor', linestyle='--', linewidth=0.5, alpha=0.5)\n",
    "    ax.set_title(f\"Sensor: {sensor_name}, Date: {start_date}\")\n",
    "    ax.set_xlabel(\"Time\")\n",
    "    ax.set_ylabel(\"Status (1=True, 0=False)\")\n",
    "    ax.grid(True, alpha=0.3)\n"
   ]
  },
  {
   "cell_type": "code",
   "execution_count": 41,
   "id": "0d788cfe",
   "metadata": {},
   "outputs": [
    {
     "data": {
      "image/png": "[encoded data removed]",
      "text/plain": [
       "<Figure size 1200x400 with 1 Axes>"
      ]
     },
     "metadata": {},
     "output_type": "display_data"
    }
   ],
   "source": [
    "fig, axes = plt.subplots(len(sensors), 1, figsize=(12, 4*len(sensors)), sharex=True)\n",
    "# Handle case where only one sensor (axes not iterable)\n",
    "if len(sensors) == 1:\n",
    "    axes = [axes]\n",
    "\n",
    "for i, sensor in enumerate(sensors):\n",
    "    plot_sensor(df_time, sensor, fig, ax=axes[i], i = i)\n",
    "    # Save only the area of this Axes\n",
    "save_path = folder_path + f\"\\\\{start_date}.png\"\n",
    "fig.savefig(save_path, dpi = 200)\n",
    "plt.tight_layout()\n",
    "plt.show()"
   ]
  },
  {
   "cell_type": "markdown",
   "id": "6f48b5b0",
   "metadata": {},
   "source": [
    "For multiple sensors, divide days by repeatedly calling the function filter_by_date and draw a plot with a single day. The rows of the subplot are the sensors. The columns of the subplot are the days. Each subplot shows the status of a single sensor on a single day, using your existing plotting style (step plot, hourly major ticks, 15-min minor ticks, etc.)"
   ]
  },
  {
   "cell_type": "code",
   "execution_count": 42,
   "id": "817f4bb8",
   "metadata": {},
   "outputs": [],
   "source": [
    "# days = pd.date_range(start=start_date, end=end_date, freq='D') # a list of days between end_date and start_date\n",
    "# fig, axes = plt.subplots(len(sensors), len(days), figsize=(4*len(days), 3*len(sensors)), sharex=True)\n",
    "\n",
    "# # Handle case where only one sensor (axes not iterable)\n",
    "# if len(sensors) == 1:\n",
    "#     axes = [axes]\n",
    "# for j, day in enumerate(days):\n",
    "#     df_date = filter_by_date(df_loc, start_date = day, end_date = day)\n",
    "#     for i, sensor in enumerate(sensors):\n",
    "#         plot_sensor(df_date, sensor, fig, ax=axes[i], i = i)\n",
    "\n",
    "# plt.tight_layout()\n",
    "# plt.show()"
   ]
  }
 ],
 "metadata": {
  "kernelspec": {
   "display_name": "ciem6302-UIg27ybo-py3.10",
   "language": "python",
   "name": "python3"
  },
  "language_info": {
   "codemirror_mode": {
    "name": "ipython",
    "version": 3
   },
   "file_extension": ".py",
   "mimetype": "text/x-python",
   "name": "python",
   "nbconvert_exporter": "python",
   "pygments_lexer": "ipython3",
   "version": "3.10.8"
  }
 },
 "nbformat": 4,
 "nbformat_minor": 5
}
